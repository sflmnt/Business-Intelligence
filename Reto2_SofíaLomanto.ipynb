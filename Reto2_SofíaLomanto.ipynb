{
  "nbformat": 4,
  "nbformat_minor": 0,
  "metadata": {
    "colab": {
      "provenance": [],
      "authorship_tag": "ABX9TyMa8pqg0Y++Ox4xnH7NrsKu",
      "include_colab_link": true
    },
    "kernelspec": {
      "name": "python3",
      "display_name": "Python 3"
    },
    "language_info": {
      "name": "python"
    }
  },
  "cells": [
    {
      "cell_type": "markdown",
      "metadata": {
        "id": "view-in-github",
        "colab_type": "text"
      },
      "source": [
        "<a href=\"https://colab.research.google.com/github/sflmnt/Business-Intelligence/blob/main/Reto2_Sof%C3%ADaLomanto.ipynb\" target=\"_parent\"><img src=\"https://colab.research.google.com/assets/colab-badge.svg\" alt=\"Open In Colab\"/></a>"
      ]
    },
    {
      "cell_type": "markdown",
      "source": [
        "# **Reto 2:** Sofía Lomanto"
      ],
      "metadata": {
        "id": "VjaTLfw-NW9p"
      }
    },
    {
      "cell_type": "markdown",
      "source": [
        "**0.** Se procede con la carga de las librerias de trabajo"
      ],
      "metadata": {
        "id": "6RP5SyHONPUg"
      }
    },
    {
      "cell_type": "code",
      "execution_count": null,
      "metadata": {
        "colab": {
          "base_uri": "https://localhost:8080/"
        },
        "id": "G181cRbpM4kO",
        "outputId": "f3cfface-6f32-465b-8a3f-f174b82a0d75"
      },
      "outputs": [
        {
          "output_type": "stream",
          "name": "stdout",
          "text": [
            "Drive already mounted at /content/drive; to attempt to forcibly remount, call drive.mount(\"/content/drive\", force_remount=True).\n"
          ]
        }
      ],
      "source": [
        "#Librerias Cientificas\n",
        "import numpy as np\n",
        "import pandas as pd\n",
        "\n",
        "#Librerias Arbol\n",
        "from sklearn.tree import DecisionTreeClassifier\n",
        "from sklearn.metrics import confusion_matrix\n",
        "\n",
        "#Conectar al Drive\n",
        "from google.colab import drive\n",
        "drive.mount('/content/drive')"
      ]
    },
    {
      "cell_type": "markdown",
      "source": [
        "**1.** Se procede con la carga de los datos"
      ],
      "metadata": {
        "id": "uHxhAJK-NrU4"
      }
    },
    {
      "cell_type": "code",
      "source": [
        "nxl='/content/drive/MyDrive/Análitica 2025-1/2. CollegeAdmisions_Int_M.xlsx'\n",
        "XDB=pd.read_excel(nxl,sheet_name=0) #Primera hoja\n",
        "XDB.head(100)\n",
        "\n",
        "#Seleccionar las variables\n",
        "XD=XDB[['Edu_Parent1','Edu_Parent2','Gender','White','Asian','HSGPA','SAT/ACT']]\n",
        "yd=XDB['Admitted']"
      ],
      "metadata": {
        "collapsed": true,
        "id": "xumMwhRUNvXb"
      },
      "execution_count": null,
      "outputs": []
    },
    {
      "cell_type": "markdown",
      "source": [
        "# **Descripción de los datos:**\n",
        "De acuerdo a la base de datos de estudiantes que son admitidos o no a la universidad, esta posee un total de 17339 datos totales, divididos en 5323 admitidos y 12016 rechazados. Cada uno de los aspirantes estará descrito en función de 7 variables:\n",
        "\n",
        "* **Education Parent 1 y Education Parent 2:** Indica el nivel educativo del primer y segundo padre/madre del estudiante, con los  valores de **1** (Sin escuela preparatoria) , **2** (Escuela preparatoria trunca), **3** (Graduado/a de la escuela preparatoria), **4** (Universidad trunca), **5** (No especificado), **6** (Graduado universitario en carrera de 4 años) y **7** (Posgrado).\n",
        "* **Gender:** Muestra el género del solicitante: M (1) para hombres y F (0) para mujeres.\n",
        "* **White:** Señala si el solicitante se identifica como blanco: (1) para blanco\n",
        " y (0) para no blanco.\n",
        "* **Asian:** Señala si el solicitante se identifica como asiático: (1) para asiático y (0) para no asiático.\n",
        "* **HSGPA:** Nos muestra el promedio académico (GPA) ponderado de la escuela preparatoria del solicitante, en una escala de 0 a 5.\n",
        "* **SAT/ACT:** Representa la puntuación más alta obtenida en las pruebas estandarizadas SAT o ACT.La puntuación del ACT se convierte primero a un equivalente en el SAT, tomando en cuenta las secciones de inglés y matemáticas.\n",
        "* **Admitted:** Indica si el estudiante fue admitido o no a la universidad: (1) para admitidos y (0) para no admitidos.\n",
        "\n",
        "\n",
        "**Nota:** información sacada del libro de la materia \"ANALÍTICA DE NEGOCIOS 2ED: Comunicación con números\" de los autores Alison Kelly , Kevin Lertwachara , Leida Chen y Sanjiv Jaggia."
      ],
      "metadata": {
        "id": "NGMQG3VtScmp"
      }
    },
    {
      "cell_type": "markdown",
      "source": [
        "**2.** Se procede con la implementación del modelo"
      ],
      "metadata": {
        "id": "7g2oWu7-sQiS"
      }
    },
    {
      "cell_type": "code",
      "source": [
        "mar=DecisionTreeClassifier(criterion='gini',max_depth=4)\n",
        "mar.fit(XD,yd)\n",
        "\n",
        "#Se procede con la gráfica\n",
        "from pydotplus import graph_from_dot_data #Esto crea la gráfica\n",
        "from sklearn.tree import export_graphviz #Esto la exporta a PNG, JPEG, TIFF\n",
        "\n",
        "ve= ['Edu_Parent1','Edu_Parent2','Gender','White','Asian','HSGPA','SAT/ACT'] #Nombres para el árbol\n",
        "dot_data=export_graphviz(mar,feature_names=ve) #Crear el gráfico\n",
        "graph= graph_from_dot_data(dot_data)\n",
        "graph.write_png('2. ArbolDecisión_Reto 2.png') #Exportar a PNG\n"
      ],
      "metadata": {
        "colab": {
          "base_uri": "https://localhost:8080/"
        },
        "id": "02YT-eAEsbEB",
        "outputId": "813bd208-7038-4d98-8010-c50b0be6ac68"
      },
      "execution_count": null,
      "outputs": [
        {
          "output_type": "execute_result",
          "data": {
            "text/plain": [
              "True"
            ]
          },
          "metadata": {},
          "execution_count": 17
        }
      ]
    },
    {
      "cell_type": "markdown",
      "source": [
        "**3.** Se procede con el pronóstico de la admisión para las personas agrupadas en la base de datos de pronóstico."
      ],
      "metadata": {
        "id": "Z5vtGgcawv-7"
      }
    },
    {
      "cell_type": "code",
      "source": [
        "XDB0=pd.read_excel(nxl,sheet_name=1)\n",
        "XDB0.head(100)\n",
        "\n",
        "#Se crea la base de datos a pronósticar\n",
        "XD0=XDB0[['Edu_Parent1','Edu_Parent2','Gender','White','Asian','HSGPA','SAT/ACT']]\n",
        "yd0=XDB0['Admitted']\n",
        "\n",
        "#Le calculamos la admisión a los estudiantes\n",
        "y_pred= mar.predict(XD0)\n",
        "print(y_pred)\n",
        "\n",
        "#Se crea el informe en excel\n",
        "df=pd.DataFrame(np.column_stack((XD0,y_pred)))\n",
        "df.columns=['Edu_Parent1','Edu_Parent2','Gender','White','Asian','HSGPA','SAT/ACT','Admitted']\n",
        "df.to_excel('Evaluación admisión Reto 2.xlsx')\n"
      ],
      "metadata": {
        "colab": {
          "base_uri": "https://localhost:8080/"
        },
        "id": "JT7RylE6w7zV",
        "outputId": "ea4283e9-5a27-435d-bb64-1938498c4cda"
      },
      "execution_count": null,
      "outputs": [
        {
          "output_type": "stream",
          "name": "stdout",
          "text": [
            "['No' 'Yes' 'No' 'No' 'No' 'No' 'No' 'No' 'No' 'No' 'Yes']\n"
          ]
        }
      ]
    },
    {
      "cell_type": "markdown",
      "source": [
        "**4.** Se evalúa el comportamiento del modelo"
      ],
      "metadata": {
        "id": "J7a3FuYIy7JU"
      }
    },
    {
      "cell_type": "code",
      "source": [
        "ydp=mar.predict(XD) #Pronóstico sobre la base de datos original\n",
        "cm=confusion_matrix(yd,ydp) #Matriz de confusión\n",
        "print(\"La matriz de confusión es: \\n\",cm)\n",
        "\n",
        "VN=cm[0,0] #Verdaderos Negativos\n",
        "VP=cm[1,1] #Verdaderos Positivos\n",
        "FP=cm[0,1] #Falsos Positivos\n",
        "FN=cm[1,0] #Falsos Negativos\n",
        "\n",
        "Exactitud=(VP+VN)/(VP+VN+FP+FN)\n",
        "print(\"La exactitud es: \",Exactitud)\n",
        "\n",
        "Sensibilidad=VP/(VP+FN)\n",
        "print(\"La sensibilidad es: \",Sensibilidad)\n",
        "\n",
        "Especificidad=VN/(VN+FP)\n",
        "print(\"La especificidad es: \",Especificidad)\n",
        "\n",
        "Precision=VP/(VP+FP)\n",
        "print(\"La precisión es: \",Precision)\n",
        "\n",
        "TasaError=(FP+FN)/(VP+VN+FP+FN)\n",
        "print(\"La tasa de error es:\",TasaError)\n",
        "\n",
        "PredNeg=VN/(VN+FP)\n",
        "print(\"La probabilidad de no ser admitido es: \",PredNeg)"
      ],
      "metadata": {
        "colab": {
          "base_uri": "https://localhost:8080/"
        },
        "id": "w0ZP2abEzBj8",
        "outputId": "d46f7ecf-eab7-4fa8-d56c-af2dd5bfc516"
      },
      "execution_count": null,
      "outputs": [
        {
          "output_type": "stream",
          "name": "stdout",
          "text": [
            "La matriz de confusión es: \n",
            " [[10719  1297]\n",
            " [ 1985  3338]]\n",
            "La exactitud es:  0.8107157275506085\n",
            "La sensibilidad es:  0.627089986849521\n",
            "La especificidad es:  0.892060585885486\n",
            "La precisión es:  0.7201725997842503\n",
            "La tasa de error es: 0.18928427244939156\n",
            "La probabilidad de no ser admitido es:  0.892060585885486\n"
          ]
        }
      ]
    },
    {
      "cell_type": "markdown",
      "source": [
        "# **Análisis de Resultados:**\n",
        "La matriz de confusión muestra que se predominan los Verdaderos Negativos (10719) y los Verdaderos Positivos (3338), con base a estos resultados el modelo demostró ser excelente en cuanto a exactitud y especificidad, estando por encima del 80% (81% y 89,2% respectivamente). También el modelo consiguió una precisión del 72% que demuestra su buen comportamiento general admitiendo estudiantes y finalmente, toda esta información es corroborada por la baja tasa de error de el modelo que se encuentra por debajo del 20% (18,9%) y demuestra su buen comportamiento negando la admisión.\n",
        "\n",
        "En cuanto a el pronóstico de la admisión para las personas agrupadas en la base de datos de pronóstico, de los 11 aplicantes estudiados, el modelo acepto a dos aplicantes (18,18%) y no dio admisión a los 9 restantes (81.81%) esto se alinea con la probabilidad de no ser admitido que fue en el modelo de un 89%.\n",
        "\n",
        "Finalmente, en el árbol de decisión del modelo no se encontraron nodos puros, pero se resalta la presencia de algunos nodos con un \"gini\" especialmente bajo con resultados de 0,042 , 0,092 y 0,094."
      ],
      "metadata": {
        "id": "gxvQ7JKE62tL"
      }
    }
  ]
}