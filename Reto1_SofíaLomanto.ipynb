{
  "nbformat": 4,
  "nbformat_minor": 0,
  "metadata": {
    "colab": {
      "provenance": [],
      "authorship_tag": "ABX9TyNuyeX/l6Eu/bQBJ364asBX",
      "include_colab_link": true
    },
    "kernelspec": {
      "name": "python3",
      "display_name": "Python 3"
    },
    "language_info": {
      "name": "python"
    }
  },
  "cells": [
    {
      "cell_type": "markdown",
      "metadata": {
        "id": "view-in-github",
        "colab_type": "text"
      },
      "source": [
        "<a href=\"https://colab.research.google.com/github/sflmnt/Business-Intelligence/blob/main/Reto1_Sof%C3%ADaLomanto.ipynb\" target=\"_parent\"><img src=\"https://colab.research.google.com/assets/colab-badge.svg\" alt=\"Open In Colab\"/></a>"
      ]
    },
    {
      "cell_type": "markdown",
      "source": [
        "# **Reto 1:** Sofía Lomanto Salazar\n",
        "0. Se cargan las librerias de trabajo"
      ],
      "metadata": {
        "id": "RKPwQtFszj_d"
      }
    },
    {
      "cell_type": "code",
      "execution_count": null,
      "metadata": {
        "id": "sh27_a3rzY9c"
      },
      "outputs": [],
      "source": [
        "import numpy as np\n",
        "import pandas as pd"
      ]
    },
    {
      "cell_type": "markdown",
      "source": [
        "1. Cargar la base de datos"
      ],
      "metadata": {
        "id": "x6HDQ-bf13n1"
      }
    },
    {
      "cell_type": "code",
      "source": [
        "nxl='/content/sample_data/1. BD1_Longitudinal Survey_Int.xlsx'\n",
        "XDB= pd.read_excel(nxl,sheet_name=0)\n",
        "XDB=XDB.dropna() #Para eliminar celdas vacias\n",
        "\n",
        "#Seleccionamos las variables de interés\n",
        "XDB=XDB[['Age','Urban','Mother_Edu','Father_Edu','FamilySize','Self_Esteem','Height','Weight','Income']]\n",
        "print(XDB)\n",
        "\n",
        "#Se separan las variables de entrada y salida\n",
        "XD=XDB[['Age','Mother_Edu','Father_Edu','FamilySize','Self_Esteem','Height','Weight','Income']] #Variables de Entrada\n",
        "yd=XDB[['Urban']] #Variables de Salida - Variable Pronóstico\n"
      ],
      "metadata": {
        "colab": {
          "base_uri": "https://localhost:8080/"
        },
        "collapsed": true,
        "id": "iKnpni4t16fU",
        "outputId": "e7b1d36f-a222-4fa6-8673-99b06b4fa865"
      },
      "execution_count": null,
      "outputs": [
        {
          "output_type": "stream",
          "name": "stdout",
          "text": [
            "       Age  Urban  Mother_Edu  Father_Edu  FamilySize  Self_Esteem  Height  \\\n",
            "1       20    1.0         5.0         8.0           5         16.0    62.0   \n",
            "5       19    1.0        12.0        12.0           4         27.0    64.0   \n",
            "6       15    1.0        12.0        12.0           3         26.0    65.0   \n",
            "7       21    1.0         9.0         6.0           3         23.0    65.0   \n",
            "8       16    1.0        12.0        10.0           6         26.0    66.0   \n",
            "...    ...    ...         ...         ...         ...          ...     ...   \n",
            "12557   20    1.0        12.0        12.0           5         20.0    60.0   \n",
            "12565   20    1.0        12.0        11.0           2         24.0    63.0   \n",
            "12647   21    1.0        16.0        12.0           1         30.0    70.0   \n",
            "12651   21    1.0        16.0        16.0           1         27.0    73.0   \n",
            "12678   21    0.0         8.0         8.0           1         19.0    70.0   \n",
            "\n",
            "       Weight   Income  \n",
            "1       120.0      0.0  \n",
            "5       200.0  40000.0  \n",
            "6       131.0  25000.0  \n",
            "7       179.0  27400.0  \n",
            "8       145.0  52000.0  \n",
            "...       ...      ...  \n",
            "12557   110.0   1000.0  \n",
            "12565   152.0  38000.0  \n",
            "12647   180.0  43600.0  \n",
            "12651   170.0  40000.0  \n",
            "12678   180.0  17000.0  \n",
            "\n",
            "[5683 rows x 9 columns]\n"
          ]
        }
      ]
    },
    {
      "cell_type": "markdown",
      "source": [
        "2. Implementamos el modelo"
      ],
      "metadata": {
        "id": "KqTI_g7x5uyr"
      }
    },
    {
      "cell_type": "code",
      "source": [
        "from sklearn.naive_bayes import GaussianNB\n",
        "\n",
        "mnb=GaussianNB() #Aloja el modelo\n",
        "mnb.fit(XD,yd) #Entrena el modelo (media, desv est, y valores de pert)\n",
        "\n",
        "#Obtenemos la info del modelo\n",
        "u=mnb.theta_ #obtenemos la media de las variables por categoria\n",
        "print(\"la media de las variables por categoria es :\\n\", u)\n",
        "\n",
        "var=mnb.var_ #obtenemos la varianza de las variables por categoria\n",
        "print(\"la varianza de las variables por categoria es :\\n\", var)\n",
        "\n",
        "sigma=np.sqrt(var) #obtenemos la desviación estandar de las variables por categoria\n",
        "print(\"la desviación estandar de las variables por categoria es :\\n\", sigma)\n",
        "\n",
        "#Se determinan los limites superiores e inferiores de las variables\n",
        "LS=u+sigma\n",
        "LI=u-sigma\n",
        "print(\"el limite superior de las variables por categoria es :\\n\", LS)\n",
        "print(\"el limite inferior de las variables por categoria es :\\n\", LI)"
      ],
      "metadata": {
        "colab": {
          "base_uri": "https://localhost:8080/"
        },
        "id": "6rH-LubQ5yBQ",
        "outputId": "994334de-be42-40d0-c179-22637380abfa"
      },
      "execution_count": null,
      "outputs": [
        {
          "output_type": "stream",
          "name": "stdout",
          "text": [
            "la media de las variables por categoria es :\n",
            " [[1.83810742e+01 1.07612958e+01 1.03324808e+01 4.74168798e+00\n",
            "  2.20272805e+01 6.72148338e+01 1.48857630e+02 3.03672506e+04]\n",
            " [1.83569845e+01 1.11769401e+01 1.12565410e+01 4.68780488e+00\n",
            "  2.26004435e+01 6.69031042e+01 1.44760976e+02 3.34278929e+04]]\n",
            "la varianza de las variables por categoria es :\n",
            " [[6.15727948e+00 1.00639316e+01 1.49720047e+01 6.63304385e+00\n",
            "  1.75796726e+01 1.66288925e+01 9.06652219e+02 1.00501103e+09]\n",
            " [6.12994838e+00 1.14704244e+01 1.68556528e+01 5.94306906e+00\n",
            "  1.75141489e+01 1.77519886e+01 9.05487615e+02 1.30488762e+09]]\n",
            "la desviación estandar de las variables por categoria es :\n",
            " [[2.48138660e+00 3.17237004e+00 3.86936748e+00 2.57546964e+00\n",
            "  4.19281202e+00 4.07785391e+00 3.01106662e+01 3.17019089e+04]\n",
            " [2.47587326e+00 3.38680150e+00 4.10556364e+00 2.43784107e+00\n",
            "  4.18499090e+00 4.21331089e+00 3.00913213e+01 3.61232282e+04]]\n",
            "el limite superior de las variables por categoria es :\n",
            " [[2.08624608e+01 1.39336659e+01 1.42018483e+01 7.31715762e+00\n",
            "  2.62200925e+01 7.12926877e+01 1.78968296e+02 6.20691595e+04]\n",
            " [2.08328577e+01 1.45637416e+01 1.53621047e+01 7.12564594e+00\n",
            "  2.67854344e+01 7.11164151e+01 1.74852297e+02 6.95511211e+04]]\n",
            "el limite inferior de las variables por categoria es :\n",
            " [[ 1.58996876e+01  7.58892579e+00  6.46311334e+00  2.16621834e+00\n",
            "   1.78344685e+01  6.31369799e+01  1.18746964e+02 -1.33465823e+03]\n",
            " [ 1.58811112e+01  7.79013864e+00  7.15097738e+00  2.24996381e+00\n",
            "   1.84154526e+01  6.26897933e+01  1.14669654e+02 -2.69533531e+03]]\n"
          ]
        },
        {
          "output_type": "stream",
          "name": "stderr",
          "text": [
            "/usr/local/lib/python3.11/dist-packages/sklearn/utils/validation.py:1408: DataConversionWarning: A column-vector y was passed when a 1d array was expected. Please change the shape of y to (n_samples, ), for example using ravel().\n",
            "  y = column_or_1d(y, warn=True)\n"
          ]
        }
      ]
    },
    {
      "cell_type": "markdown",
      "source": [
        "3. Evaluamos un candidato en específico:"
      ],
      "metadata": {
        "id": "7Qc2TG1pCtJT"
      }
    },
    {
      "cell_type": "code",
      "source": [
        "#Evaluamos un solicitante#\n",
        "XDS=[[34,12,15,2,24,69,160,48000]] #Como un valor de entrada\n",
        "print(\"los datos del candidato son :\\n\", XDS)\n",
        "ydp=mnb.predict(XDS) #Se obtiene la predicción\n",
        "print(\"la predicción del candidato es :\\n\", ydp)\n",
        "\n",
        "if ydp==0:\n",
        "  print(\"Esta persona vive en areas rurales\")\n",
        "if ydp==1:\n",
        "  print(\"Esta persona vive en la ciudad\")"
      ],
      "metadata": {
        "colab": {
          "base_uri": "https://localhost:8080/"
        },
        "id": "-LmdXljpC4uD",
        "outputId": "f4c63688-71d7-41fc-8d92-0d833ce97d73"
      },
      "execution_count": null,
      "outputs": [
        {
          "output_type": "stream",
          "name": "stdout",
          "text": [
            "los datos del candidato son :\n",
            " [[34, 12, 15, 2, 24, 69, 160, 48000]]\n",
            "la predicción del candidato es :\n",
            " [1.]\n",
            "Esta persona vive en la ciudad\n"
          ]
        },
        {
          "output_type": "stream",
          "name": "stderr",
          "text": [
            "/usr/local/lib/python3.11/dist-packages/sklearn/utils/validation.py:2739: UserWarning: X does not have valid feature names, but GaussianNB was fitted with feature names\n",
            "  warnings.warn(\n"
          ]
        }
      ]
    },
    {
      "cell_type": "markdown",
      "source": [
        "4. Mostramos el desempeño del modelo"
      ],
      "metadata": {
        "id": "ldU84LjV-hhL"
      }
    },
    {
      "cell_type": "code",
      "source": [
        "from sklearn.metrics import confusion_matrix\n",
        "\n",
        "#Haga un barrido de los datos\n",
        "ydp2=mnb.predict(XD) #Haga el pronóstico para los datos base\n",
        "\n",
        "cm=confusion_matrix(yd,ydp2) #cree la matriz de confusion\n",
        "print(\"la matriz de confusión es :\\n\", cm)\n",
        "VN=cm[0,0]\n",
        "FP=cm[0,1]\n",
        "FN=cm[1,0]\n",
        "VP=cm[1,1]\n",
        "\n",
        "#Metricas Desempeño\n",
        "Ex= (VP+VN)/(VP+VN+FP+FN) #Exactitud: Por encima de 75% es bueno\n",
        "print(\"la exactitud del modelo es :\\n\",Ex)\n",
        "\n",
        "TE= (FN+FP)/(VP+VN+FP+FN) #Tasa de Error\n",
        "print(\"la tasa de error del modelo es :\\n\",TE)\n",
        "\n",
        "Se= VP/(VP+FN) #Sensibilidad\n",
        "print(\"la sensibilidad del modelo es :\\n\",Se)\n",
        "\n",
        "Sp= VN/(VN+FP) #Especificidad\n",
        "print(\"la especificidad del modelo es :\\n\",Sp)\n",
        "\n",
        "Precision= VP/(VP+FP) #Precisión\n",
        "print(\"la precisión del modelo es :\\n\",Precision)\n",
        "\n",
        "PrNeg= VN/(VN+FN) #Porcentaje de Negativos\n",
        "print(\"el porcentaje de negativos del modelo es :\\n\",PrNeg)"
      ],
      "metadata": {
        "colab": {
          "base_uri": "https://localhost:8080/"
        },
        "id": "Hq486rWE-kZq",
        "outputId": "ca4c83ff-fe51-4549-e3af-837e14eded36"
      },
      "execution_count": null,
      "outputs": [
        {
          "output_type": "stream",
          "name": "stdout",
          "text": [
            "la matriz de confusión es :\n",
            " [[   2 1171]\n",
            " [   4 4506]]\n",
            "la exactitud del modelo es :\n",
            " 0.7932430054548654\n",
            "la tasa de error del modelo es :\n",
            " 0.2067569945451346\n",
            "la sensibilidad del modelo es :\n",
            " 0.9991130820399113\n",
            "la especificidad del modelo es :\n",
            " 0.0017050298380221654\n",
            "la precisión del modelo es :\n",
            " 0.793729082261758\n",
            "el porcentaje de negativos del modelo es :\n",
            " 0.3333333333333333\n"
          ]
        }
      ]
    },
    {
      "cell_type": "markdown",
      "source": [
        "# **Análisis General de Resultados**:\n",
        " De acuerdo con la base de datos suministrada, fueron tomadas como referencia para saber si una persona vive en la ciudad o en áreas rurales, las variables de \"Edad\", \"Educación de los Padres\", \"Tamaño de la Familia\", \"Escala de Autoestima\", \"Estatura\", \"Peso\" e \"Ingresos\". La base de datos tiene un total de 5683 datos que se dividen en 4510 personas que viven en la ciudad (Un 79.36% aproximadamente) y 1173 personas que viven en áreas rurales (Un 20,64% aproximadamente).\n",
        "\n",
        "\n",
        " Con respecto a algunas variables utilizadas para el análisis, se encuentra que las edades varian entre los 15 y los 22 años, la estatura entre 48 y 83 y el peso en general entre 53 y 375.\n",
        "\n",
        "\n",
        " De manera general el modelo consiguió una exactitud cercana al 80% (79,32%) por lo que demostro un comportamiento bastante bueno en cuanto a las personas que viven en la ciudad. El modelo también se destaca en cuanto a su sensibilidad que alcanza casi el 100% (99,91%) esto muestra su excelente comportamiento reconociendo personas que viven en la ciudad. El modelo muestra también una precision impecable de casi el 80% (79,37%) y muestra un buen criterio en cuanto la toma de decisiones."
      ],
      "metadata": {
        "id": "6RMtFUPKBGiq"
      }
    },
    {
      "cell_type": "code",
      "source": [
        "tdatos = len(XDB) #Aqui volvi a revisar cuantos datos había\n",
        "print('El número total de datos en la base de datos es:\\n', tdatos)\n",
        "\n",
        "\n",
        "#Aqui encontre el porcentaje de las personas que viven en la ciudad (1) y la personas que viven en áreas rurales (0)\n",
        "# Contar la frecuencia de cada categoría\n",
        "conteo_categorias = yd['Urban'].value_counts()\n",
        "\n",
        "# Calcular el porcentaje de cada categoría\n",
        "porcentaje_categorias = conteo_categorias / len(yd) * 100\n",
        "\n",
        "# Mostrar los resultados\n",
        "print(\"Porcentaje de datos en cada categoría:\")\n",
        "print(porcentaje_categorias)\n",
        "\n"
      ],
      "metadata": {
        "colab": {
          "base_uri": "https://localhost:8080/"
        },
        "id": "SS9MFmZQE7V4",
        "outputId": "05af0454-2b94-4431-a294-b32bf30a174e"
      },
      "execution_count": null,
      "outputs": [
        {
          "output_type": "stream",
          "name": "stdout",
          "text": [
            "El número total de datos en la base de datos es:\n",
            " 5683\n",
            "Porcentaje de datos en cada categoría:\n",
            "Urban\n",
            "1.0    79.359493\n",
            "0.0    20.640507\n",
            "Name: count, dtype: float64\n"
          ]
        }
      ]
    }
  ]
}